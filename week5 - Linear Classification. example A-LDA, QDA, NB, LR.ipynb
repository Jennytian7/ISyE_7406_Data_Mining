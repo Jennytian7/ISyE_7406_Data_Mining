{
 "cells": [
  {
   "cell_type": "markdown",
   "metadata": {},
   "source": [
    "# Example A: The Vowel data set from our textbook, also see the homepage\n",
    "\n",
    "https://statweb.stanford.edu/~tibs/ElemStatLearn/datasets/vowel.info.txt\n",
    "\n",
    "Reference for Python Implementation: http://www.science.smith.edu/~jcrouser/SDS293/labs/lab5-py.html\n",
    "\n",
    "\n",
    "## read Table\n",
    "\n",
    "vowel.train <- read.table(\"http://www2.isye.gatech.edu/~ymei/7406/Handouts/vowel.train.csv\",  header= TRUE, sep = \",\");\n",
    "\n",
    "vowel.test <- read.table(\"http://www2.isye.gatech.edu/~ymei/7406/Handouts/vowel.test.csv\",  header= TRUE, sep = \",\");\n",
    "\n",
    "\n",
    "#vowel.train <- read.table(file = \"C:/myajun/Teaching/7406/data/vowel.train.csv\", header= T, sep = \",\")\n",
    "#vowel.test <- read.table(file = \"C:/myajun/Teaching/7406/data/vowel.test.csv\",  header= T, sep = \",\")\n"
   ]
  },
  {
   "cell_type": "code",
   "execution_count": 2,
   "metadata": {},
   "outputs": [
    {
     "data": {
      "text/html": [
       "<div>\n",
       "<style scoped>\n",
       "    .dataframe tbody tr th:only-of-type {\n",
       "        vertical-align: middle;\n",
       "    }\n",
       "\n",
       "    .dataframe tbody tr th {\n",
       "        vertical-align: top;\n",
       "    }\n",
       "\n",
       "    .dataframe thead th {\n",
       "        text-align: right;\n",
       "    }\n",
       "</style>\n",
       "<table border=\"1\" class=\"dataframe\">\n",
       "  <thead>\n",
       "    <tr style=\"text-align: right;\">\n",
       "      <th></th>\n",
       "      <th>y</th>\n",
       "      <th>x.1</th>\n",
       "      <th>x.2</th>\n",
       "      <th>x.3</th>\n",
       "      <th>x.4</th>\n",
       "      <th>x.5</th>\n",
       "      <th>x.6</th>\n",
       "      <th>x.7</th>\n",
       "      <th>x.8</th>\n",
       "      <th>x.9</th>\n",
       "      <th>x.10</th>\n",
       "    </tr>\n",
       "  </thead>\n",
       "  <tbody>\n",
       "    <tr>\n",
       "      <th>0</th>\n",
       "      <td>1</td>\n",
       "      <td>-3.639</td>\n",
       "      <td>0.418</td>\n",
       "      <td>-0.670</td>\n",
       "      <td>1.779</td>\n",
       "      <td>-0.168</td>\n",
       "      <td>1.627</td>\n",
       "      <td>-0.388</td>\n",
       "      <td>0.529</td>\n",
       "      <td>-0.874</td>\n",
       "      <td>-0.814</td>\n",
       "    </tr>\n",
       "    <tr>\n",
       "      <th>1</th>\n",
       "      <td>2</td>\n",
       "      <td>-3.327</td>\n",
       "      <td>0.496</td>\n",
       "      <td>-0.694</td>\n",
       "      <td>1.365</td>\n",
       "      <td>-0.265</td>\n",
       "      <td>1.933</td>\n",
       "      <td>-0.363</td>\n",
       "      <td>0.510</td>\n",
       "      <td>-0.621</td>\n",
       "      <td>-0.488</td>\n",
       "    </tr>\n",
       "    <tr>\n",
       "      <th>2</th>\n",
       "      <td>3</td>\n",
       "      <td>-2.120</td>\n",
       "      <td>0.894</td>\n",
       "      <td>-1.576</td>\n",
       "      <td>0.147</td>\n",
       "      <td>-0.707</td>\n",
       "      <td>1.559</td>\n",
       "      <td>-0.579</td>\n",
       "      <td>0.676</td>\n",
       "      <td>-0.809</td>\n",
       "      <td>-0.049</td>\n",
       "    </tr>\n",
       "    <tr>\n",
       "      <th>3</th>\n",
       "      <td>4</td>\n",
       "      <td>-2.287</td>\n",
       "      <td>1.809</td>\n",
       "      <td>-1.498</td>\n",
       "      <td>1.012</td>\n",
       "      <td>-1.053</td>\n",
       "      <td>1.060</td>\n",
       "      <td>-0.567</td>\n",
       "      <td>0.235</td>\n",
       "      <td>-0.091</td>\n",
       "      <td>-0.795</td>\n",
       "    </tr>\n",
       "    <tr>\n",
       "      <th>4</th>\n",
       "      <td>5</td>\n",
       "      <td>-2.598</td>\n",
       "      <td>1.938</td>\n",
       "      <td>-0.846</td>\n",
       "      <td>1.062</td>\n",
       "      <td>-1.633</td>\n",
       "      <td>0.764</td>\n",
       "      <td>0.394</td>\n",
       "      <td>-0.150</td>\n",
       "      <td>0.277</td>\n",
       "      <td>-0.396</td>\n",
       "    </tr>\n",
       "  </tbody>\n",
       "</table>\n",
       "</div>"
      ],
      "text/plain": [
       "   y    x.1    x.2    x.3    x.4    x.5    x.6    x.7    x.8    x.9   x.10\n",
       "0  1 -3.639  0.418 -0.670  1.779 -0.168  1.627 -0.388  0.529 -0.874 -0.814\n",
       "1  2 -3.327  0.496 -0.694  1.365 -0.265  1.933 -0.363  0.510 -0.621 -0.488\n",
       "2  3 -2.120  0.894 -1.576  0.147 -0.707  1.559 -0.579  0.676 -0.809 -0.049\n",
       "3  4 -2.287  1.809 -1.498  1.012 -1.053  1.060 -0.567  0.235 -0.091 -0.795\n",
       "4  5 -2.598  1.938 -0.846  1.062 -1.633  0.764  0.394 -0.150  0.277 -0.396"
      ]
     },
     "execution_count": 2,
     "metadata": {},
     "output_type": "execute_result"
    }
   ],
   "source": [
    "## read the data from given URL\n",
    "import pandas as pd\n",
    "import numpy as np\n",
    "\n",
    "\n",
    "url_train = \"http://www2.isye.gatech.edu/~ymei/7406/Handouts/vowel.train.csv\"\n",
    "vowel_train = pd.read_csv(url_train)\n",
    "\n",
    "url_test = \"http://www2.isye.gatech.edu/~ymei/7406/Handouts/vowel.test.csv\"\n",
    "vowel_test = pd.read_csv(url_test)\n",
    "\n",
    "vowel_train.head()"
   ]
  },
  {
   "cell_type": "code",
   "execution_count": 3,
   "metadata": {},
   "outputs": [],
   "source": [
    "X_train = vowel_train.iloc[:, 1:]\n",
    "y_train = vowel_train.iloc[:, 0]\n",
    "\n",
    "X_test = vowel_test.iloc[:, 1:]\n",
    "y_test = vowel_test.iloc[:, 0]"
   ]
  },
  {
   "cell_type": "code",
   "execution_count": 4,
   "metadata": {},
   "outputs": [],
   "source": [
    "from sklearn.discriminant_analysis import LinearDiscriminantAnalysis, QuadraticDiscriminantAnalysis\n",
    "from sklearn.metrics import confusion_matrix, classification_report, precision_score\n",
    "\n",
    "%matplotlib inline"
   ]
  },
  {
   "cell_type": "markdown",
   "metadata": {},
   "source": [
    "# Method A1: LDA"
   ]
  },
  {
   "cell_type": "code",
   "execution_count": 11,
   "metadata": {},
   "outputs": [
    {
     "name": "stdout",
     "output_type": "stream",
     "text": [
      "[0.09090909 0.09090909 0.09090909 0.09090909 0.09090909 0.09090909\n",
      " 0.09090909 0.09090909 0.09090909 0.09090909 0.09090909]\n"
     ]
    }
   ],
   "source": [
    "lda = LinearDiscriminantAnalysis()\n",
    "model = lda.fit(X_train, y_train)\n",
    "\n",
    "print(model.priors_)"
   ]
  },
  {
   "cell_type": "code",
   "execution_count": 12,
   "metadata": {},
   "outputs": [
    {
     "name": "stdout",
     "output_type": "stream",
     "text": [
      "[[-3.3595625   0.0629375  -0.2940625   1.20333333  0.38747917  1.22189583\n",
      "   0.096375    0.03710417 -0.62435417 -0.161625  ]\n",
      " [-2.708875    0.49060417 -0.58022917  0.8135      0.2019375   1.06347917\n",
      "  -0.19091667  0.3738125  -0.51595833  0.08060417]\n",
      " [-2.44025     0.774875   -0.79839583  0.80866667  0.04245833  0.56925\n",
      "  -0.2800625   0.20495833 -0.47827083  0.181875  ]\n",
      " [-2.22660417  1.52583333 -0.8744375   0.42214583 -0.3713125   0.24835417\n",
      "  -0.01895833  0.10714583 -0.32627083 -0.05375   ]\n",
      " [-2.7563125   2.27595833 -0.46572917  0.2253125  -1.03679167  0.38979167\n",
      "   0.23641667  0.424625   -0.20070833 -0.28070833]\n",
      " [-2.67354167  1.75877083 -0.4745625   0.3505625  -0.66585417  0.417\n",
      "   0.16233333  0.22925    -0.2075      0.05270833]\n",
      " [-3.24372917  2.46835417 -0.1050625   0.39645833 -0.98029167  0.1623125\n",
      "   0.01958333  0.76229167 -0.03027083 -0.12239583]\n",
      " [-4.05133333  3.23397917 -0.17397917  0.39658333 -1.04602083  0.1951875\n",
      "   0.08666667  0.82077083  0.10445833  0.02122917]\n",
      " [-3.87689583  2.34502083 -0.36683333  0.31704167 -0.3945      0.803375\n",
      "   0.02504167  0.73614583 -0.23183333 -0.14810417]\n",
      " [-4.50614583  2.6885625  -0.28491667  0.4695625  -0.03879167  0.638875\n",
      "   0.13916667  0.3875625  -0.11102083 -0.27335417]\n",
      " [-2.99039583  1.463875   -0.5098125   0.37164583 -0.38039583  0.72504167\n",
      "  -0.08339583  0.50766667 -0.3275     -0.22672917]]\n"
     ]
    }
   ],
   "source": [
    "print(model.means_)"
   ]
  },
  {
   "cell_type": "code",
   "execution_count": 13,
   "metadata": {},
   "outputs": [
    {
     "name": "stdout",
     "output_type": "stream",
     "text": [
      "(array([ 1,  2,  3,  4,  5,  6,  7,  8,  9, 10, 11], dtype=int64), array([59, 41, 34, 48, 25, 75, 24, 33, 41, 36, 46], dtype=int64))\n"
     ]
    }
   ],
   "source": [
    "pred= model.predict(X_test)\n",
    "print(np.unique(pred, return_counts = True))"
   ]
  },
  {
   "cell_type": "code",
   "execution_count": 14,
   "metadata": {},
   "outputs": [
    {
     "name": "stdout",
     "output_type": "stream",
     "text": [
      "[[28 23  0  0  0  0  0  0  0  8  0]\n",
      " [10 16 11  0  0  0  0  0  2  1  1]\n",
      " [ 1  2 16  2  0  5  1  0  0  5  2]\n",
      " [ 0  0 11 33  1  3  0  0  0  0  0]\n",
      " [ 0  0  0  0  7  8  9  1  0  0  0]\n",
      " [ 0  1  4  6 22 19 12  0  0  0 11]\n",
      " [ 0  0  0  0  9  1 11  2  0  0  1]\n",
      " [ 0  0  0  0  0  0  4 23  6  0  0]\n",
      " [ 3  0  0  0  0  0  4  8 15  9  2]\n",
      " [ 0  0  0  0  0  0  0  8 14 13  1]\n",
      " [ 0  0  0  1  3  6  1  0  5  6 24]]\n",
      "              precision    recall  f1-score   support\n",
      "\n",
      "           1      0.475     0.667     0.554        42\n",
      "           2      0.390     0.381     0.386        42\n",
      "           3      0.471     0.381     0.421        42\n",
      "           4      0.688     0.786     0.733        42\n",
      "           5      0.280     0.167     0.209        42\n",
      "           6      0.253     0.452     0.325        42\n",
      "           7      0.458     0.262     0.333        42\n",
      "           8      0.697     0.548     0.613        42\n",
      "           9      0.366     0.357     0.361        42\n",
      "          10      0.361     0.310     0.333        42\n",
      "          11      0.522     0.571     0.545        42\n",
      "\n",
      "    accuracy                          0.444       462\n",
      "   macro avg      0.451     0.444     0.438       462\n",
      "weighted avg      0.451     0.444     0.438       462\n",
      "\n"
     ]
    }
   ],
   "source": [
    "print(confusion_matrix(pred, y_test))\n",
    "\n",
    "print(classification_report(y_test, pred, digits = 3))"
   ]
  },
  {
   "cell_type": "code",
   "execution_count": 57,
   "metadata": {},
   "outputs": [
    {
     "data": {
      "image/png": "[encoded data removed]",
      "text/plain": [
       "<Figure size 432x288 with 1 Axes>"
      ]
     },
     "metadata": {},
     "output_type": "display_data"
    }
   ],
   "source": [
    "mat = confusion_matrix(y_test, pred)\n",
    "sns.heatmap(mat.T, square=True, annot=True, fmt='d', cbar=False,\n",
    "            xticklabels=X_train.columns, yticklabels=X_train.columns)\n",
    "plt.xlabel('true label')\n",
    "plt.ylabel('predicted label');"
   ]
  },
  {
   "cell_type": "markdown",
   "metadata": {},
   "source": [
    "# Method A2: Quadratic Discriminant Analysis\n",
    "We will now fit a QDA model . QDA is implemented in sklearn using the QuadraticDiscriminantAnalysis() function, which is again part of the discriminant_analysis module. The syntax is identical to that of LinearDiscriminantAnalysis()."
   ]
  },
  {
   "cell_type": "code",
   "execution_count": 15,
   "metadata": {},
   "outputs": [
    {
     "name": "stdout",
     "output_type": "stream",
     "text": [
      "[0.09090909 0.09090909 0.09090909 0.09090909 0.09090909 0.09090909\n",
      " 0.09090909 0.09090909 0.09090909 0.09090909 0.09090909]\n",
      "[[-3.3595625   0.0629375  -0.2940625   1.20333333  0.38747917  1.22189583\n",
      "   0.096375    0.03710417 -0.62435417 -0.161625  ]\n",
      " [-2.708875    0.49060417 -0.58022917  0.8135      0.2019375   1.06347917\n",
      "  -0.19091667  0.3738125  -0.51595833  0.08060417]\n",
      " [-2.44025     0.774875   -0.79839583  0.80866667  0.04245833  0.56925\n",
      "  -0.2800625   0.20495833 -0.47827083  0.181875  ]\n",
      " [-2.22660417  1.52583333 -0.8744375   0.42214583 -0.3713125   0.24835417\n",
      "  -0.01895833  0.10714583 -0.32627083 -0.05375   ]\n",
      " [-2.7563125   2.27595833 -0.46572917  0.2253125  -1.03679167  0.38979167\n",
      "   0.23641667  0.424625   -0.20070833 -0.28070833]\n",
      " [-2.67354167  1.75877083 -0.4745625   0.3505625  -0.66585417  0.417\n",
      "   0.16233333  0.22925    -0.2075      0.05270833]\n",
      " [-3.24372917  2.46835417 -0.1050625   0.39645833 -0.98029167  0.1623125\n",
      "   0.01958333  0.76229167 -0.03027083 -0.12239583]\n",
      " [-4.05133333  3.23397917 -0.17397917  0.39658333 -1.04602083  0.1951875\n",
      "   0.08666667  0.82077083  0.10445833  0.02122917]\n",
      " [-3.87689583  2.34502083 -0.36683333  0.31704167 -0.3945      0.803375\n",
      "   0.02504167  0.73614583 -0.23183333 -0.14810417]\n",
      " [-4.50614583  2.6885625  -0.28491667  0.4695625  -0.03879167  0.638875\n",
      "   0.13916667  0.3875625  -0.11102083 -0.27335417]\n",
      " [-2.99039583  1.463875   -0.5098125   0.37164583 -0.38039583  0.72504167\n",
      "  -0.08339583  0.50766667 -0.3275     -0.22672917]]\n"
     ]
    }
   ],
   "source": [
    "qda = QuadraticDiscriminantAnalysis()\n",
    "model2 = qda.fit(X_train, y_train)\n",
    "\n",
    "print(model2.priors_)\n",
    "print(model2.means_)"
   ]
  },
  {
   "cell_type": "markdown",
   "metadata": {},
   "source": [
    "The output contains the group means. But it does not contain the coefficients of the linear discriminants, because the QDA classifier involves a quadratic, rather than a linear, function of the predictors. The predict() function works in exactly the same fashion as for LDA."
   ]
  },
  {
   "cell_type": "code",
   "execution_count": 16,
   "metadata": {},
   "outputs": [
    {
     "name": "stdout",
     "output_type": "stream",
     "text": [
      "(array([ 1,  2,  3,  4,  5,  6,  7,  8,  9, 10, 11], dtype=int64), array([ 66,  46,  16,  20,  32,  50,  81,   7, 101,  12,  31], dtype=int64))\n",
      "[[37 18  9  0  0  0  0  0  0  2  0]\n",
      " [ 4 22 13  2  0  0  0  0  0  4  1]\n",
      " [ 0  1 12  3  0  0  0  0  0  0  0]\n",
      " [ 0  0  5 12  0  1  0  0  0  0  2]\n",
      " [ 0  0  0  5 16  0 11  0  0  0  0]\n",
      " [ 0  0  2 17  7 22  1  0  0  0  1]\n",
      " [ 0  0  0  2 19 14 22 15  3  4  2]\n",
      " [ 0  0  0  0  0  0  0  6  1  0  0]\n",
      " [ 1  1  1  0  0  0  3 21 38 21 15]\n",
      " [ 0  0  0  0  0  0  0  0  0 11  1]\n",
      " [ 0  0  0  1  0  5  5  0  0  0 20]]\n",
      "              precision    recall  f1-score   support\n",
      "\n",
      "           1      0.561     0.881     0.685        42\n",
      "           2      0.478     0.524     0.500        42\n",
      "           3      0.750     0.286     0.414        42\n",
      "           4      0.600     0.286     0.387        42\n",
      "           5      0.500     0.381     0.432        42\n",
      "           6      0.440     0.524     0.478        42\n",
      "           7      0.272     0.524     0.358        42\n",
      "           8      0.857     0.143     0.245        42\n",
      "           9      0.376     0.905     0.531        42\n",
      "          10      0.917     0.262     0.407        42\n",
      "          11      0.645     0.476     0.548        42\n",
      "\n",
      "    accuracy                          0.472       462\n",
      "   macro avg      0.581     0.472     0.453       462\n",
      "weighted avg      0.581     0.472     0.453       462\n",
      "\n"
     ]
    }
   ],
   "source": [
    "pred2 = model2.predict(X_test)\n",
    "\n",
    "print(np.unique(pred2, return_counts = True))\n",
    "\n",
    "print(confusion_matrix(pred2, y_test))\n",
    "\n",
    "print(classification_report(y_test, pred2, digits = 3))"
   ]
  },
  {
   "cell_type": "code",
   "execution_count": 58,
   "metadata": {},
   "outputs": [
    {
     "data": {
      "image/png": "[encoded data removed]",
      "text/plain": [
       "<Figure size 432x288 with 1 Axes>"
      ]
     },
     "metadata": {},
     "output_type": "display_data"
    }
   ],
   "source": [
    "mat = confusion_matrix(y_test, pred2)\n",
    "sns.heatmap(mat.T, square=True, annot=True, fmt='d', cbar=False,\n",
    "            xticklabels=X_train.columns, yticklabels=X_train.columns)\n",
    "plt.xlabel('true label')\n",
    "plt.ylabel('predicted label');"
   ]
  },
  {
   "cell_type": "markdown",
   "metadata": {},
   "source": [
    "# Method A3: Naive Bayes\n",
    "\n",
    "reference: https://jakevdp.github.io/PythonDataScienceHandbook/05.05-naive-bayes.html\n",
    "\n",
    "## When to Use Naive Bayes\n",
    "Because naive Bayesian classifiers make such stringent assumptions about data, they will generally not perform as well as a more complicated model. That said, they have several advantages:\n",
    "\n",
    "They are extremely fast for both training and prediction\n",
    "\n",
    "They provide straightforward probabilistic prediction\n",
    "\n",
    "They are often very easily interpretable\n",
    "\n",
    "They have very few (if any) tunable parameters\n",
    "\n",
    "These advantages mean a naive Bayesian classifier is often a good choice as an initial baseline classification. If it performs suitably, then congratulations: you have a very fast, very interpretable classifier for your problem. If it does not perform well, then you can begin exploring more sophisticated models, with some baseline knowledge of how well they should perform.\n",
    "\n",
    "Naive Bayes classifiers tend to perform especially well in one of the following situations:\n",
    "\n",
    "When the naive assumptions actually match the data (very rare in practice)\n",
    "\n",
    "For very well-separated categories, when model complexity is less important\n",
    "\n",
    "For very high-dimensional data, when model complexity is less important\n",
    "\n",
    "The last two points seem distinct, but they actually are related: as the dimension of a dataset grows, it is much less likely for any two points to be found close together (after all, they must be close in every single dimension to be close overall). This means that clusters in high dimensions tend to be more separated, on average, than clusters in low dimensions, assuming the new dimensions actually add information. For this reason, simplistic classifiers like naive Bayes tend to work as well or better than more complicated classifiers as the dimensionality grows: once you have enough data, even a simple model can be very powerful.\n"
   ]
  },
  {
   "cell_type": "code",
   "execution_count": 18,
   "metadata": {},
   "outputs": [],
   "source": [
    "%matplotlib inline\n",
    "\n",
    "import numpy as np\n",
    "import matplotlib.pyplot as plt\n",
    "import seaborn as sns; sns.set()"
   ]
  },
  {
   "cell_type": "markdown",
   "metadata": {},
   "source": [
    "## Gaussian Naive Bayes\n",
    "Perhaps the easiest naive Bayes classifier to understand is Gaussian naive Bayes. In this classifier, the assumption is that data from each label is drawn from a simple Gaussian distribution. Imagine that you have the following data:"
   ]
  },
  {
   "cell_type": "code",
   "execution_count": 20,
   "metadata": {},
   "outputs": [
    {
     "data": {
      "text/plain": [
       "GaussianNB(priors=None, var_smoothing=1e-09)"
      ]
     },
     "execution_count": 20,
     "metadata": {},
     "output_type": "execute_result"
    }
   ],
   "source": [
    "from sklearn.naive_bayes import GaussianNB\n",
    "model3 = GaussianNB()\n",
    "model3.fit(X_train, y_train)"
   ]
  },
  {
   "cell_type": "code",
   "execution_count": 22,
   "metadata": {},
   "outputs": [
    {
     "name": "stdout",
     "output_type": "stream",
     "text": [
      "(array([ 1,  2,  3,  4,  5,  6,  7,  8,  9, 10, 11], dtype=int64), array([55, 31, 21, 51, 35, 48, 28, 23, 67, 49, 54], dtype=int64))\n",
      "[[32 10  0  0  0  0  0  0  0 13  0]\n",
      " [10 12  2  0  0  0  3  0  0  4  0]\n",
      " [ 0  9  8  2  0  0  0  0  0  2  0]\n",
      " [ 0  0 17 29  0  5  0  0  0  0  0]\n",
      " [ 0  0  0  0 22  6  6  1  0  0  0]\n",
      " [ 0  0  2 10  6 18  0  0  0  0 12]\n",
      " [ 0  0  0  0  5  0 13  5  4  0  1]\n",
      " [ 0  0  0  0  0  0  0 17  6  0  0]\n",
      " [ 0  1  0  0  9  1 15 11 21  5  4]\n",
      " [ 0  5  0  0  0  0  5  8 11 18  2]\n",
      " [ 0  5 13  1  0 12  0  0  0  0 23]]\n",
      "              precision    recall  f1-score   support\n",
      "\n",
      "           1      0.582     0.762     0.660        42\n",
      "           2      0.387     0.286     0.329        42\n",
      "           3      0.381     0.190     0.254        42\n",
      "           4      0.569     0.690     0.624        42\n",
      "           5      0.629     0.524     0.571        42\n",
      "           6      0.375     0.429     0.400        42\n",
      "           7      0.464     0.310     0.371        42\n",
      "           8      0.739     0.405     0.523        42\n",
      "           9      0.313     0.500     0.385        42\n",
      "          10      0.367     0.429     0.396        42\n",
      "          11      0.426     0.548     0.479        42\n",
      "\n",
      "    accuracy                          0.461       462\n",
      "   macro avg      0.476     0.461     0.454       462\n",
      "weighted avg      0.476     0.461     0.454       462\n",
      "\n"
     ]
    }
   ],
   "source": [
    "pred3 = model3.predict(X_test)\n",
    "\n",
    "print(np.unique(pred3, return_counts = True))\n",
    "\n",
    "print(confusion_matrix(pred3, y_test))\n",
    "\n",
    "print(classification_report(y_test, pred3, digits = 3))"
   ]
  },
  {
   "cell_type": "code",
   "execution_count": 48,
   "metadata": {},
   "outputs": [
    {
     "data": {
      "image/png": "[encoded data removed]",
      "text/plain": [
       "<Figure size 432x288 with 1 Axes>"
      ]
     },
     "metadata": {},
     "output_type": "display_data"
    }
   ],
   "source": [
    "mat = confusion_matrix(y_test, pred3)\n",
    "sns.heatmap(mat.T, square=True, annot=True, fmt='d', cbar=False,\n",
    "            xticklabels=X_train.columns, yticklabels=X_train.columns)\n",
    "plt.xlabel('true label')\n",
    "plt.ylabel('predicted label');"
   ]
  },
  {
   "cell_type": "markdown",
   "metadata": {},
   "source": [
    "## Multinomial Naive Bayes\n",
    "The Gaussian assumption just described is by no means the only simple assumption that could be used to specify the generative distribution for each label. Another useful example is multinomial naive Bayes, where the features are assumed to be generated from a simple multinomial distribution. The multinomial distribution describes the probability of observing counts among a number of categories, and thus multinomial naive Bayes is most appropriate for features that represent counts or count rates.\n",
    "\n",
    "The idea is precisely the same as before, except that instead of modeling the data distribution with the best-fit Gaussian, we model the data distribuiton with a best-fit multinomial distribution."
   ]
  },
  {
   "cell_type": "code",
   "execution_count": 40,
   "metadata": {},
   "outputs": [],
   "source": [
    "# from sklearn.feature_extraction.text import TfidfVectorizer\n",
    "from sklearn.naive_bayes import MultinomialNB\n",
    "# from sklearn.pipeline import make_pipeline\n",
    "# model3_2 = make_pipeline(TfidfVectorizer(), MultinomialNB())\n",
    "model3_2 = MultinomialNB()"
   ]
  },
  {
   "cell_type": "code",
   "execution_count": 50,
   "metadata": {},
   "outputs": [],
   "source": [
    "#Scale your training features to [0,1], because  for MultinomialNB, Input X must be non-negative\n",
    "from sklearn.preprocessing import MinMaxScaler \n",
    "scaler = MinMaxScaler()\n",
    "\n",
    "X_train_scl = scaler.fit_transform(X_train)\n",
    "X_test_scl = scaler.fit_transform(X_test)"
   ]
  },
  {
   "cell_type": "code",
   "execution_count": 51,
   "metadata": {},
   "outputs": [
    {
     "data": {
      "text/plain": [
       "MultinomialNB(alpha=1.0, class_prior=None, fit_prior=True)"
      ]
     },
     "execution_count": 51,
     "metadata": {},
     "output_type": "execute_result"
    }
   ],
   "source": [
    "model3_2.fit(X_train_scl , y_train) "
   ]
  },
  {
   "cell_type": "code",
   "execution_count": 55,
   "metadata": {},
   "outputs": [
    {
     "name": "stdout",
     "output_type": "stream",
     "text": [
      "(array([ 1,  2,  3,  4,  5,  6,  7,  8,  9, 10, 11], dtype=int64), array([ 58,  13,  34, 104,  58,  19,  15,  30,  31,  81,  19], dtype=int64))\n",
      "[[31 20  0  0  0  0  0  0  0  7  0]\n",
      " [ 3  5  5  0  0  0  0  0  0  0  0]\n",
      " [ 2  8  6  0  0  6  3  0  2  2  5]\n",
      " [ 0  0 28 30 13 17  4  0  0  0 12]\n",
      " [ 0  0  0  6 15 10 22  5  0  0  0]\n",
      " [ 0  0  2  6  6  3  1  0  0  0  1]\n",
      " [ 0  0  0  0  8  2  5  0  0  0  0]\n",
      " [ 0  0  0  0  0  0  0 19 11  0  0]\n",
      " [ 0  0  0  0  0  0  7  6  4  0 14]\n",
      " [ 6  5  0  0  0  0  0 12 25 33  0]\n",
      " [ 0  4  1  0  0  4  0  0  0  0 10]]\n",
      "              precision    recall  f1-score   support\n",
      "\n",
      "           1      0.534     0.738     0.620        42\n",
      "           2      0.385     0.119     0.182        42\n",
      "           3      0.176     0.143     0.158        42\n",
      "           4      0.288     0.714     0.411        42\n",
      "           5      0.259     0.357     0.300        42\n",
      "           6      0.158     0.071     0.098        42\n",
      "           7      0.333     0.119     0.175        42\n",
      "           8      0.633     0.452     0.528        42\n",
      "           9      0.129     0.095     0.110        42\n",
      "          10      0.407     0.786     0.537        42\n",
      "          11      0.526     0.238     0.328        42\n",
      "\n",
      "    accuracy                          0.348       462\n",
      "   macro avg      0.348     0.348     0.313       462\n",
      "weighted avg      0.348     0.348     0.313       462\n",
      "\n"
     ]
    }
   ],
   "source": [
    "pred3_2 = model3_2.predict(X_test_scl)\n",
    "\n",
    "print(np.unique(pred3_2, return_counts = True))\n",
    "\n",
    "print(confusion_matrix(pred3_2, y_test))\n",
    "\n",
    "print(classification_report(y_test, pred3_2, digits = 3))"
   ]
  },
  {
   "cell_type": "code",
   "execution_count": 56,
   "metadata": {},
   "outputs": [
    {
     "data": {
      "image/png": "[encoded data removed]",
      "text/plain": [
       "<Figure size 432x288 with 1 Axes>"
      ]
     },
     "metadata": {},
     "output_type": "display_data"
    }
   ],
   "source": [
    "mat = confusion_matrix(y_test, pred3_2)\n",
    "sns.heatmap(mat.T, square=True, annot=True, fmt='d', cbar=False,\n",
    "            xticklabels=X_train.columns, yticklabels=X_train.columns)\n",
    "plt.xlabel('true label')\n",
    "plt.ylabel('predicted label');"
   ]
  },
  {
   "cell_type": "markdown",
   "metadata": {},
   "source": [
    "# Method A4: (multinomial) logisitic regression) "
   ]
  },
  {
   "cell_type": "code",
   "execution_count": 5,
   "metadata": {},
   "outputs": [],
   "source": [
    "from sklearn.linear_model import LogisticRegression\n",
    "from sklearn.preprocessing import StandardScaler"
   ]
  },
  {
   "cell_type": "code",
   "execution_count": 6,
   "metadata": {},
   "outputs": [],
   "source": [
    "### Standardize Features\n",
    "scaler = StandardScaler()\n",
    "X_train_std = scaler.fit_transform(X_train)\n",
    "X_test_std = scaler.fit_transform(X_test)"
   ]
  },
  {
   "cell_type": "code",
   "execution_count": 7,
   "metadata": {},
   "outputs": [],
   "source": [
    "#Create multinomial Logistic Regression\n",
    "# Create one-vs-rest logistic regression object\n",
    "clf = LogisticRegression(random_state = 0, multi_class = 'multinomial', solver = 'newton-cg')"
   ]
  },
  {
   "cell_type": "code",
   "execution_count": 8,
   "metadata": {},
   "outputs": [],
   "source": [
    "# train model\n",
    "model4 = clf.fit(X_train_std, y_train)"
   ]
  },
  {
   "cell_type": "code",
   "execution_count": 9,
   "metadata": {},
   "outputs": [],
   "source": [
    "###  Prediction\n",
    "pred4 = model4.predict(X_test_std)"
   ]
  },
  {
   "cell_type": "code",
   "execution_count": 10,
   "metadata": {},
   "outputs": [
    {
     "data": {
      "text/plain": [
       "array([ 1,  1,  2,  4,  7,  7,  6,  8, 11, 10,  9,  1,  2,  2,  4,  7,  7,\n",
       "        6,  8,  8,  1,  9,  1,  2,  2,  4,  7,  5,  2,  8,  9,  1,  1,  1,\n",
       "        2,  2,  4,  7,  5,  2,  8,  9,  1,  9,  1,  2,  2,  3,  7, 11,  1,\n",
       "        8,  9,  1,  9,  1,  2,  3,  3,  7, 11,  6,  8,  9,  1, 10,  1,  1,\n",
       "        4,  4,  4,  5,  7,  8,  9, 10, 11,  1,  1,  4,  4,  4,  5,  5,  8,\n",
       "        8,  8, 11,  1,  1,  4,  4,  4,  5,  5,  8,  9,  8, 11,  1,  1,  4,\n",
       "        4,  4,  5,  5,  8, 10, 10, 11,  1,  1,  4,  4,  5,  4,  5,  8, 10,\n",
       "       10, 11,  1,  1,  4,  4,  5,  4, 11,  8, 10, 10, 11,  1,  1,  3,  4,\n",
       "        7,  4,  9,  8,  8,  8, 11,  1,  1,  3,  4,  7, 11,  9,  8,  8, 10,\n",
       "       11,  1,  1,  3,  4,  7,  6,  7,  8, 10, 10, 11,  1,  1,  4,  4,  5,\n",
       "        6,  5,  8,  8, 10, 11,  1,  1,  3,  4,  5,  6,  5,  8,  8, 10, 11,\n",
       "        1,  1,  3,  4,  5,  6,  5,  8,  8, 10,  1,  1,  1,  3,  4,  5,  4,\n",
       "        7,  8,  9,  1, 11,  1,  1,  2,  4,  5,  4,  7, 10,  8,  1, 11,  1,\n",
       "        1,  2,  4,  4,  4,  7,  8,  9,  1, 11,  1,  1,  2,  6,  4,  4,  7,\n",
       "        8,  9, 10, 11,  1,  1,  2,  6,  7,  6,  7,  8,  8, 10, 11,  1,  1,\n",
       "        3,  6,  7, 11,  7,  8, 10, 10, 11,  1,  2,  4,  4,  6,  6,  5,  9,\n",
       "        8,  8, 11,  2,  2,  4,  6,  5,  6,  5,  9,  8,  8,  4,  1,  2,  3,\n",
       "        6,  5,  6,  5,  9,  7,  8,  4,  1,  2,  4,  4,  6,  6,  5,  5,  8,\n",
       "        8, 11,  1,  3,  4,  4,  6,  6,  6,  5,  9,  8,  7,  1,  3,  4,  4,\n",
       "        6,  6,  6,  5,  9,  8,  7,  1,  1,  6,  6,  6,  3,  6,  9, 11,  3,\n",
       "        6,  1,  2,  6,  6,  6,  3,  6,  9, 11,  3,  6,  1,  2,  6,  6,  6,\n",
       "        3,  6,  9, 11,  3,  6,  1,  2,  6,  6,  6,  3,  6,  9, 11,  3,  6,\n",
       "        1,  2,  6,  6,  6,  3,  4,  7,  2,  3,  6,  1,  2,  6,  6,  6,  6,\n",
       "        6,  5,  2,  3,  6,  2,  2,  4,  4,  6,  4,  5,  9,  9, 11,  3,  1,\n",
       "        2,  3,  4,  4,  6,  5,  9,  9, 11,  3,  1,  2,  3,  4,  4,  6,  5,\n",
       "       10,  9, 11,  6,  2,  1,  3,  4,  4,  6,  9, 10,  9, 11,  6,  2,  2,\n",
       "        3,  4,  6,  6,  9,  9,  9, 11, 11,  1,  2,  3,  4,  6,  6,  9,  9,\n",
       "        9, 11,  2], dtype=int64)"
      ]
     },
     "execution_count": 10,
     "metadata": {},
     "output_type": "execute_result"
    }
   ],
   "source": [
    "pred4"
   ]
  },
  {
   "cell_type": "code",
   "execution_count": 15,
   "metadata": {},
   "outputs": [
    {
     "data": {
      "text/plain": [
       "array([[7.17984035e-01, 5.26233173e-02, 1.93187795e-01, ...,\n",
       "        7.91892010e-06, 1.57119039e-08, 8.17213477e-04],\n",
       "       [5.89107649e-01, 4.03321262e-01, 1.43599427e-03, ...,\n",
       "        1.59671294e-04, 4.84650427e-05, 5.85307425e-03],\n",
       "       [5.94759557e-02, 4.78142648e-01, 3.63083405e-01, ...,\n",
       "        1.87558492e-04, 1.02500846e-05, 8.88014615e-02],\n",
       "       ...,\n",
       "       [1.04434504e-03, 4.92777806e-02, 7.66257316e-05, ...,\n",
       "        4.78447544e-01, 2.22708235e-01, 2.36088652e-01],\n",
       "       [1.73419255e-04, 5.81552250e-02, 2.46748640e-02, ...,\n",
       "        1.42019799e-02, 4.49424535e-03, 8.87087793e-01],\n",
       "       [7.76142128e-04, 3.55300489e-01, 2.27077301e-01, ...,\n",
       "        2.37050775e-02, 1.73463071e-03, 2.33588787e-01]])"
      ]
     },
     "execution_count": 15,
     "metadata": {},
     "output_type": "execute_result"
    }
   ],
   "source": [
    "### View Probability Observation Is Each Class\n",
    "pred4prob = model4.predict_proba(X_test_std)\n",
    "pred4prob"
   ]
  },
  {
   "cell_type": "code",
   "execution_count": 16,
   "metadata": {},
   "outputs": [
    {
     "data": {
      "text/plain": [
       "(462, 11)"
      ]
     },
     "execution_count": 16,
     "metadata": {},
     "output_type": "execute_result"
    }
   ],
   "source": [
    "np.shape(pred4prob)"
   ]
  },
  {
   "cell_type": "code",
   "execution_count": 17,
   "metadata": {},
   "outputs": [
    {
     "name": "stdout",
     "output_type": "stream",
     "text": [
      "(array([ 1,  2,  3,  4,  5,  6,  7,  8,  9, 10, 11], dtype=int64), array([70, 37, 31, 62, 33, 65, 25, 44, 37, 22, 36], dtype=int64))\n",
      "[[38 21  0  0  0  0  1  0  0  8  2]\n",
      " [ 4 19  9  0  0  0  2  0  2  0  1]\n",
      " [ 0  2 14  2  0  5  0  0  0  6  2]\n",
      " [ 0  0 13 29  9  8  1  0  0  0  2]\n",
      " [ 0  0  0  0  9  6 14  4  0  0  0]\n",
      " [ 0  0  6 11 13 17 10  0  0  0  8]\n",
      " [ 0  0  0  0 11  2  8  1  1  0  2]\n",
      " [ 0  0  0  0  0  0  0 23 12  9  0]\n",
      " [ 0  0  0  0  0  0  5 11 17  0  4]\n",
      " [ 0  0  0  0  0  0  0  3  5 13  1]\n",
      " [ 0  0  0  0  0  4  1  0  5  6 20]]\n",
      "              precision    recall  f1-score   support\n",
      "\n",
      "           1      0.543     0.905     0.679        42\n",
      "           2      0.514     0.452     0.481        42\n",
      "           3      0.452     0.333     0.384        42\n",
      "           4      0.468     0.690     0.558        42\n",
      "           5      0.273     0.214     0.240        42\n",
      "           6      0.262     0.405     0.318        42\n",
      "           7      0.320     0.190     0.239        42\n",
      "           8      0.523     0.548     0.535        42\n",
      "           9      0.459     0.405     0.430        42\n",
      "          10      0.591     0.310     0.406        42\n",
      "          11      0.556     0.476     0.513        42\n",
      "\n",
      "    accuracy                          0.448       462\n",
      "   macro avg      0.451     0.448     0.435       462\n",
      "weighted avg      0.451     0.448     0.435       462\n",
      "\n"
     ]
    }
   ],
   "source": [
    "print(np.unique(pred4, return_counts = True))\n",
    "\n",
    "print(confusion_matrix(pred4, y_test))\n",
    "\n",
    "print(classification_report(y_test, pred4, digits = 3))"
   ]
  },
  {
   "cell_type": "code",
   "execution_count": 79,
   "metadata": {},
   "outputs": [
    {
     "data": {
      "image/png": "[encoded data removed]",
      "text/plain": [
       "<Figure size 432x288 with 1 Axes>"
      ]
     },
     "metadata": {},
     "output_type": "display_data"
    }
   ],
   "source": [
    "mat = confusion_matrix(y_test, pred4)\n",
    "sns.heatmap(mat.T, square=True, annot=True, fmt='d', cbar=False,\n",
    "            xticklabels=X_train.columns, yticklabels=X_train.columns)\n",
    "plt.xlabel('true label')\n",
    "plt.ylabel('predicted label');"
   ]
  },
  {
   "cell_type": "code",
   "execution_count": null,
   "metadata": {},
   "outputs": [],
   "source": []
  }
 ],
 "metadata": {
  "kernelspec": {
   "display_name": "Python 3",
   "language": "python",
   "name": "python3"
  },
  "language_info": {
   "codemirror_mode": {
    "name": "ipython",
    "version": 3
   },
   "file_extension": ".py",
   "mimetype": "text/x-python",
   "name": "python",
   "nbconvert_exporter": "python",
   "pygments_lexer": "ipython3",
   "version": "3.7.3"
  }
 },
 "nbformat": 4,
 "nbformat_minor": 2
}
