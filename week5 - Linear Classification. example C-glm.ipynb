{
 "cells": [
  {
   "cell_type": "markdown",
   "metadata": {},
   "source": [
    "# Example C: low birth wight data \n",
    "\n",
    "#%<http://www.umass.edu/statdata/statdata/data/lowbwt.txt>\n",
    "\n",
    "### read data \n",
    "\n",
    "in data1 <- read.table(\"http://www2.isye.gatech.edu/~ymei/7406/Handouts/lowbwt.csv\", head=T, sep=\",\")\n"
   ]
  },
  {
   "cell_type": "code",
   "execution_count": 1,
   "metadata": {},
   "outputs": [
    {
     "data": {
      "text/html": [
       "<div>\n",
       "<style scoped>\n",
       "    .dataframe tbody tr th:only-of-type {\n",
       "        vertical-align: middle;\n",
       "    }\n",
       "\n",
       "    .dataframe tbody tr th {\n",
       "        vertical-align: top;\n",
       "    }\n",
       "\n",
       "    .dataframe thead th {\n",
       "        text-align: right;\n",
       "    }\n",
       "</style>\n",
       "<table border=\"1\" class=\"dataframe\">\n",
       "  <thead>\n",
       "    <tr style=\"text-align: right;\">\n",
       "      <th></th>\n",
       "      <th>ID</th>\n",
       "      <th>LOW</th>\n",
       "      <th>AGE</th>\n",
       "      <th>LWT</th>\n",
       "      <th>RACE</th>\n",
       "      <th>SMOKE</th>\n",
       "      <th>PTL</th>\n",
       "      <th>HT</th>\n",
       "      <th>UI</th>\n",
       "      <th>FTV</th>\n",
       "      <th>BWT</th>\n",
       "    </tr>\n",
       "  </thead>\n",
       "  <tbody>\n",
       "    <tr>\n",
       "      <th>0</th>\n",
       "      <td>4</td>\n",
       "      <td>1</td>\n",
       "      <td>28</td>\n",
       "      <td>120</td>\n",
       "      <td>3</td>\n",
       "      <td>1</td>\n",
       "      <td>1</td>\n",
       "      <td>0</td>\n",
       "      <td>1</td>\n",
       "      <td>0</td>\n",
       "      <td>709</td>\n",
       "    </tr>\n",
       "    <tr>\n",
       "      <th>1</th>\n",
       "      <td>10</td>\n",
       "      <td>1</td>\n",
       "      <td>29</td>\n",
       "      <td>130</td>\n",
       "      <td>1</td>\n",
       "      <td>0</td>\n",
       "      <td>0</td>\n",
       "      <td>0</td>\n",
       "      <td>1</td>\n",
       "      <td>2</td>\n",
       "      <td>1021</td>\n",
       "    </tr>\n",
       "    <tr>\n",
       "      <th>2</th>\n",
       "      <td>11</td>\n",
       "      <td>1</td>\n",
       "      <td>34</td>\n",
       "      <td>187</td>\n",
       "      <td>2</td>\n",
       "      <td>1</td>\n",
       "      <td>0</td>\n",
       "      <td>1</td>\n",
       "      <td>0</td>\n",
       "      <td>0</td>\n",
       "      <td>1135</td>\n",
       "    </tr>\n",
       "    <tr>\n",
       "      <th>3</th>\n",
       "      <td>13</td>\n",
       "      <td>1</td>\n",
       "      <td>25</td>\n",
       "      <td>105</td>\n",
       "      <td>3</td>\n",
       "      <td>0</td>\n",
       "      <td>1</td>\n",
       "      <td>1</td>\n",
       "      <td>0</td>\n",
       "      <td>0</td>\n",
       "      <td>1330</td>\n",
       "    </tr>\n",
       "    <tr>\n",
       "      <th>4</th>\n",
       "      <td>15</td>\n",
       "      <td>1</td>\n",
       "      <td>25</td>\n",
       "      <td>85</td>\n",
       "      <td>3</td>\n",
       "      <td>0</td>\n",
       "      <td>0</td>\n",
       "      <td>0</td>\n",
       "      <td>1</td>\n",
       "      <td>0</td>\n",
       "      <td>1474</td>\n",
       "    </tr>\n",
       "  </tbody>\n",
       "</table>\n",
       "</div>"
      ],
      "text/plain": [
       "   ID  LOW  AGE  LWT  RACE  SMOKE  PTL  HT  UI  FTV   BWT\n",
       "0   4    1   28  120     3      1    1   0   1    0   709\n",
       "1  10    1   29  130     1      0    0   0   1    2  1021\n",
       "2  11    1   34  187     2      1    0   1   0    0  1135\n",
       "3  13    1   25  105     3      0    1   1   0    0  1330\n",
       "4  15    1   25   85     3      0    0   0   1    0  1474"
      ]
     },
     "execution_count": 1,
     "metadata": {},
     "output_type": "execute_result"
    }
   ],
   "source": [
    "## read the data from given URL\n",
    "import pandas as pd\n",
    "import numpy as np\n",
    "\n",
    "\n",
    "url = \"http://www2.isye.gatech.edu/~ymei/7406/Handouts/lowbwt.csv\"\n",
    "data1 = pd.read_csv(url)\n",
    "\n",
    "data1.head()"
   ]
  },
  {
   "cell_type": "markdown",
   "metadata": {},
   "source": [
    "## fit a logit model with LOW as the dep. var. and AGE, LWT, and SMOKE as the covariates\n",
    "\n",
    "logit.out <- glm(LOW~AGE+LWT+SMOKE, family=binomial(link=logit),\n",
    "                 data=data1)\n",
    "\n",
    "reference: http://www.science.smith.edu/~jcrouser/SDS293/labs/lab4-py.html\n",
    "\n",
    "https://www.bayesianmodelsforastrophysicaldata.com/code-5-2\n",
    "\n"
   ]
  },
  {
   "cell_type": "code",
   "execution_count": 3,
   "metadata": {},
   "outputs": [],
   "source": [
    "import statsmodels.api as sm\n",
    "import statsmodels.formula.api as smf"
   ]
  },
  {
   "cell_type": "markdown",
   "metadata": {},
   "source": [
    "We can use an R-like formula string to separate the predictors from the response."
   ]
  },
  {
   "cell_type": "code",
   "execution_count": 4,
   "metadata": {},
   "outputs": [],
   "source": [
    "formula = 'LOW ~ AGE + LWT + SMOKE'"
   ]
  },
  {
   "cell_type": "markdown",
   "metadata": {},
   "source": [
    "The glm() function fits generalized linear models, a class of models that includes logistic regression. The syntax of the glm() function is similar to that of lm(), except that we must pass in the argument family=sm.families.Binomial() in order to tell python to run a logistic regression rather than some other type of generalized linear model."
   ]
  },
  {
   "cell_type": "code",
   "execution_count": 5,
   "metadata": {},
   "outputs": [
    {
     "name": "stdout",
     "output_type": "stream",
     "text": [
      "                 Generalized Linear Model Regression Results                  \n",
      "==============================================================================\n",
      "Dep. Variable:                    LOW   No. Observations:                  189\n",
      "Model:                            GLM   Df Residuals:                      185\n",
      "Model Family:                Binomial   Df Model:                            3\n",
      "Link Function:                  logit   Scale:                          1.0000\n",
      "Method:                          IRLS   Log-Likelihood:                -111.44\n",
      "Date:                Sat, 28 Dec 2019   Deviance:                       222.88\n",
      "Time:                        22:37:23   Pearson chi2:                     186.\n",
      "No. Iterations:                     4                                         \n",
      "Covariance Type:            nonrobust                                         \n",
      "==============================================================================\n",
      "                 coef    std err          z      P>|z|      [0.025      0.975]\n",
      "------------------------------------------------------------------------------\n",
      "Intercept      1.3682      1.014      1.349      0.177      -0.620       3.356\n",
      "AGE           -0.0390      0.033     -1.192      0.233      -0.103       0.025\n",
      "LWT           -0.0121      0.006     -1.979      0.048      -0.024      -0.000\n",
      "SMOKE          0.6708      0.326      2.058      0.040       0.032       1.309\n",
      "==============================================================================\n"
     ]
    }
   ],
   "source": [
    "model = smf.glm(formula = formula, data = data1, family = sm.families.Binomial())\n",
    "result = model.fit()\n",
    "\n",
    "print(result.summary())"
   ]
  },
  {
   "cell_type": "code",
   "execution_count": 6,
   "metadata": {},
   "outputs": [
    {
     "name": "stdout",
     "output_type": "stream",
     "text": [
      "Coefficeients\n",
      "Intercept    1.368225\n",
      "AGE         -0.038995\n",
      "LWT         -0.012139\n",
      "SMOKE        0.670764\n",
      "dtype: float64\n",
      "\n",
      "p-Values\n",
      "Intercept    0.177341\n",
      "AGE          0.233440\n",
      "LWT          0.047859\n",
      "SMOKE        0.039559\n",
      "dtype: float64\n",
      "\n",
      "Dependent variables\n",
      "LOW\n"
     ]
    }
   ],
   "source": [
    "print(\"Coefficeients\")\n",
    "print(result.params)\n",
    "print()\n",
    "print(\"p-Values\")\n",
    "print(result.pvalues)\n",
    "print()\n",
    "print(\"Dependent variables\")\n",
    "print(result.model.endog_names)"
   ]
  },
  {
   "cell_type": "code",
   "execution_count": 82,
   "metadata": {},
   "outputs": [
    {
     "name": "stdout",
     "output_type": "stream",
     "text": [
      "[0.3028636  0.48684767 0.36315791 0.13257628 0.31467452 0.33160588\n",
      " 0.28313085 0.33470755 0.35187602 0.48464863 0.40249509 0.22395531\n",
      " 0.44968849 0.45077801 0.40205682 0.22051994 0.57150985 0.51020894\n",
      " 0.29293202 0.32414941 0.24412761 0.50046172 0.44777461 0.33972606\n",
      " 0.30769151 0.39939793 0.36541602 0.24456847 0.44477502 0.45724767\n",
      " 0.35146044 0.27184632]\n"
     ]
    }
   ],
   "source": [
    "predictions = result.predict()\n",
    "print(predictions[13:45])"
   ]
  },
  {
   "cell_type": "code",
   "execution_count": 93,
   "metadata": {},
   "outputs": [],
   "source": [
    "# X =data1.loc[14:45, [ \"AGE\", \"LWT\", \"SMOKE\"]]\n",
    "# X = sm.add_constant(X)\n",
    "# manu_pred = np.dot(X, result.params.values)\n",
    "# manu_pred"
   ]
  },
  {
   "cell_type": "code",
   "execution_count": 101,
   "metadata": {},
   "outputs": [
    {
     "data": {
      "text/plain": [
       "<matplotlib.collections.PathCollection at 0x1dd31824470>"
      ]
     },
     "execution_count": 101,
     "metadata": {},
     "output_type": "execute_result"
    },
    {
     "data": {
      "image/png": "[encoded data removed]",
      "text/plain": [
       "<Figure size 432x288 with 1 Axes>"
      ]
     },
     "metadata": {
      "needs_background": "light"
     },
     "output_type": "display_data"
    }
   ],
   "source": [
    "# plot low on AGE adding some jitter (noise) to LOW\n",
    "import matplotlib.pyplot as plt\n",
    "from random import random\n",
    "rnd_state = np.random.RandomState()\n",
    "# plt.scatter(range(len(predictions)), predictions)\n",
    "plt.scatter(data1[\"AGE\"], data1[\"LOW\"]+0.1*rnd_state.normal(0, 1))"
   ]
  },
  {
   "cell_type": "code",
   "execution_count": 96,
   "metadata": {},
   "outputs": [
    {
     "data": {
      "text/plain": [
       "array([ 0.03643977, -0.00255481, -0.0415494 , -0.08054398, -0.11953856,\n",
       "       -0.15853314, -0.19752773, -0.23652231, -0.27551689, -0.31451147,\n",
       "       -0.35350606, -0.39250064, -0.43149522, -0.47048981, -0.50948439,\n",
       "       -0.54847897, -0.58747355, -0.62646814, -0.66546272, -0.7044573 ,\n",
       "       -0.74345188, -0.78244647, -0.82144105, -0.86043563, -0.89943022,\n",
       "       -0.9384248 , -0.97741938, -1.01641396, -1.05540855, -1.09440313,\n",
       "       -1.13339771, -1.17239229])"
      ]
     },
     "execution_count": 96,
     "metadata": {},
     "output_type": "execute_result"
    }
   ],
   "source": [
    "X1 = np.hstack((np.ones((32, 1)), np.arange(14, 46)[:, np.newaxis], np.ones((32,1)) * 120, np.ones((32,1))))\n",
    "X1 = pd.DataFrame(X1)\n",
    "\n",
    "# X = sm.add_constant(X)\n",
    "Xb1 = np.dot(X1, result.params.values)\n",
    "Xb1"
   ]
  },
  {
   "cell_type": "code",
   "execution_count": 98,
   "metadata": {},
   "outputs": [
    {
     "data": {
      "text/plain": [
       "array([0.50910893, 0.4993613 , 0.48961415, 0.47987488, 0.4701509 ,\n",
       "       0.46044951, 0.45077801, 0.44114355, 0.43155321, 0.42201392,\n",
       "       0.41253247, 0.40311547, 0.39376934, 0.38450032, 0.3753144 ,\n",
       "       0.36621737, 0.35721475, 0.34831181, 0.33951356, 0.33082473,\n",
       "       0.32224977, 0.31379286, 0.30545785, 0.29724834, 0.2891676 ,\n",
       "       0.28121864, 0.27340413, 0.26572651, 0.25818786, 0.25079005,\n",
       "       0.24353461, 0.23642284])"
      ]
     },
     "execution_count": 98,
     "metadata": {},
     "output_type": "execute_result"
    }
   ],
   "source": [
    "prob1 = np.exp(Xb1)/(1+np.exp(Xb1))\n",
    "prob1"
   ]
  },
  {
   "cell_type": "code",
   "execution_count": 117,
   "metadata": {},
   "outputs": [
    {
     "data": {
      "text/html": [
       "<div>\n",
       "<style scoped>\n",
       "    .dataframe tbody tr th:only-of-type {\n",
       "        vertical-align: middle;\n",
       "    }\n",
       "\n",
       "    .dataframe tbody tr th {\n",
       "        vertical-align: top;\n",
       "    }\n",
       "\n",
       "    .dataframe thead th {\n",
       "        text-align: right;\n",
       "    }\n",
       "</style>\n",
       "<table border=\"1\" class=\"dataframe\">\n",
       "  <thead>\n",
       "    <tr style=\"text-align: right;\">\n",
       "      <th></th>\n",
       "      <th>Intercept</th>\n",
       "      <th>AGE</th>\n",
       "      <th>LWT</th>\n",
       "      <th>SMOKE</th>\n",
       "    </tr>\n",
       "  </thead>\n",
       "  <tbody>\n",
       "    <tr>\n",
       "      <th>Intercept</th>\n",
       "      <td>1.028727</td>\n",
       "      <td>-0.020679</td>\n",
       "      <td>-0.004074</td>\n",
       "      <td>-0.054326</td>\n",
       "    </tr>\n",
       "    <tr>\n",
       "      <th>AGE</th>\n",
       "      <td>-0.020679</td>\n",
       "      <td>0.001071</td>\n",
       "      <td>-0.000029</td>\n",
       "      <td>-0.000006</td>\n",
       "    </tr>\n",
       "    <tr>\n",
       "      <th>LWT</th>\n",
       "      <td>-0.004074</td>\n",
       "      <td>-0.000029</td>\n",
       "      <td>0.000038</td>\n",
       "      <td>0.000055</td>\n",
       "    </tr>\n",
       "    <tr>\n",
       "      <th>SMOKE</th>\n",
       "      <td>-0.054326</td>\n",
       "      <td>-0.000006</td>\n",
       "      <td>0.000055</td>\n",
       "      <td>0.106196</td>\n",
       "    </tr>\n",
       "  </tbody>\n",
       "</table>\n",
       "</div>"
      ],
      "text/plain": [
       "           Intercept       AGE       LWT     SMOKE\n",
       "Intercept   1.028727 -0.020679 -0.004074 -0.054326\n",
       "AGE        -0.020679  0.001071 -0.000029 -0.000006\n",
       "LWT        -0.004074 -0.000029  0.000038  0.000055\n",
       "SMOKE      -0.054326 -0.000006  0.000055  0.106196"
      ]
     },
     "execution_count": 117,
     "metadata": {},
     "output_type": "execute_result"
    }
   ],
   "source": [
    "V = result.cov_params()\n",
    "V"
   ]
  },
  {
   "cell_type": "code",
   "execution_count": 142,
   "metadata": {
    "scrolled": false
   },
   "outputs": [
    {
     "data": {
      "text/plain": [
       "array([0.13755449, 0.12031192, 0.10521134, 0.09225275, 0.08143617,\n",
       "       0.07276157, 0.06622898, 0.06183838, 0.05958978, 0.05948318,\n",
       "       0.06151857, 0.06569596, 0.07201535, 0.08047673, 0.09108011,\n",
       "       0.10382548, 0.11871285, 0.13574222, 0.15491359, 0.17622695,\n",
       "       0.19968231, 0.22527966, 0.25301901, 0.28290036, 0.3149237 ,\n",
       "       0.34908905, 0.38539638, 0.42384572, 0.46443705, 0.50717038,\n",
       "       0.5520457 , 0.59906302])"
      ]
     },
     "execution_count": 142,
     "metadata": {},
     "output_type": "execute_result"
    }
   ],
   "source": [
    "Var_logit1 = np.diag(np.dot(np.dot(X1,V), X1.T))\n",
    "Var_logit1"
   ]
  },
  {
   "cell_type": "code",
   "execution_count": 143,
   "metadata": {},
   "outputs": [],
   "source": [
    "Xb1_upper = Xb1 + 1.96*np.sqrt(Var_logit1)\n",
    "Xb1_low = Xb1 - 1.96*np.sqrt(Var_logit1)"
   ]
  },
  {
   "cell_type": "code",
   "execution_count": 147,
   "metadata": {
    "scrolled": true
   },
   "outputs": [],
   "source": [
    "# Now use the logistic cdf to transform these CI into probabilities\n",
    "prob1_upper = np.exp(Xb1_upper)/(1+np.exp(Xb1_upper))\n",
    "prob1_low = np.exp(Xb1_low)/(1+np.exp(Xb1_low))"
   ]
  },
  {
   "cell_type": "code",
   "execution_count": 152,
   "metadata": {},
   "outputs": [
    {
     "data": {
      "image/png": "[encoded data removed]",
      "text/plain": [
       "<Figure size 432x288 with 1 Axes>"
      ]
     },
     "metadata": {
      "needs_background": "light"
     },
     "output_type": "display_data"
    }
   ],
   "source": [
    "plt.scatter(data1[\"AGE\"], data1[\"LOW\"]+0.1*rnd_state.normal(0, 1))\n",
    "\n",
    "xx = np.linspace(14, 45, 32)\n",
    "plt.plot(xx, prob1, color = 'red');\n",
    "\n",
    "plt.plot(xx, prob1_upper, color = 'red', linestyle='dashed');\n",
    "plt.plot(xx, prob1_low, color = 'red', linestyle='dashed');\n",
    "\n"
   ]
  },
  {
   "cell_type": "markdown",
   "metadata": {},
   "source": []
  },
  {
   "cell_type": "code",
   "execution_count": 12,
   "metadata": {},
   "outputs": [],
   "source": [
    "# print(np.column_stack((data1.as_matrix(columns = [\"LOW\"]).flatten(), \n",
    "#                        result.model.endog)))"
   ]
  },
  {
   "cell_type": "code",
   "execution_count": 38,
   "metadata": {},
   "outputs": [],
   "source": [
    "predictions_nominal = [ 1 if x < 0.3 else 0 for x in predictions]\n",
    "# predictions_nominal "
   ]
  },
  {
   "cell_type": "code",
   "execution_count": 39,
   "metadata": {},
   "outputs": [
    {
     "name": "stdout",
     "output_type": "stream",
     "text": [
      "[[54 76]\n",
      " [40 19]]\n"
     ]
    }
   ],
   "source": [
    "from sklearn.metrics import confusion_matrix, classification_report\n",
    "print(confusion_matrix(data1[\"LOW\"], \n",
    "                       predictions_nominal))"
   ]
  },
  {
   "cell_type": "code",
   "execution_count": 30,
   "metadata": {},
   "outputs": [
    {
     "name": "stdout",
     "output_type": "stream",
     "text": [
      "              precision    recall  f1-score   support\n",
      "\n",
      "           0      0.538     0.054     0.098       130\n",
      "           1      0.301     0.898     0.451        59\n",
      "\n",
      "    accuracy                          0.317       189\n",
      "   macro avg      0.420     0.476     0.274       189\n",
      "weighted avg      0.464     0.317     0.208       189\n",
      "\n"
     ]
    }
   ],
   "source": [
    "print(classification_report(data1[\"LOW\"], \n",
    "                            predictions_nominal, \n",
    "                            digits = 3))"
   ]
  },
  {
   "cell_type": "markdown",
   "metadata": {},
   "source": [
    "# Hypothesis Testing in Logistic Regression\n",
    "# fit a logit model\n",
    "\n",
    "logit1.out <- glm(LOW~AGE+ LWT+SMOKE+HT+UI, family=binomial, data=data1)\n",
    "summary(logit1.out)"
   ]
  },
  {
   "cell_type": "code",
   "execution_count": 165,
   "metadata": {},
   "outputs": [
    {
     "name": "stdout",
     "output_type": "stream",
     "text": [
      "                 Generalized Linear Model Regression Results                  \n",
      "==============================================================================\n",
      "Dep. Variable:                    LOW   No. Observations:                  189\n",
      "Model:                            GLM   Df Residuals:                      183\n",
      "Model Family:                Binomial   Df Model:                            5\n",
      "Link Function:                  logit   Scale:                          1.0000\n",
      "Method:                          IRLS   Log-Likelihood:                -105.89\n",
      "Date:                Sun, 29 Dec 2019   Deviance:                       211.78\n",
      "Time:                        21:00:28   Pearson chi2:                     183.\n",
      "No. Iterations:                     4                                         \n",
      "Covariance Type:            nonrobust                                         \n",
      "==============================================================================\n",
      "                 coef    std err          z      P>|z|      [0.025      0.975]\n",
      "------------------------------------------------------------------------------\n",
      "Intercept      1.3998      1.080      1.296      0.195      -0.718       3.517\n",
      "AGE           -0.0341      0.034     -1.012      0.312      -0.100       0.032\n",
      "LWT           -0.0154      0.007     -2.345      0.019      -0.028      -0.003\n",
      "SMOKE          0.6475      0.337      1.923      0.054      -0.012       1.307\n",
      "HT             1.8933      0.683      2.770      0.006       0.554       3.233\n",
      "UI             0.8846      0.444      1.992      0.046       0.014       1.755\n",
      "==============================================================================\n"
     ]
    }
   ],
   "source": [
    "formula = 'LOW ~ AGE + LWT + SMOKE + HT + UI'\n",
    "\n",
    "model = smf.glm(formula = formula, data = data1, family = sm.families.Binomial())\n",
    "logit_out = model.fit()\n",
    "\n",
    "print(logit_out.summary())"
   ]
  },
  {
   "cell_type": "markdown",
   "metadata": {},
   "source": [
    "## fit another logit model including race\n",
    "logit2.out <- glm(LOW~AGE+ LWT+AfrAm+othrace+SMOKE+HT+UI,\n",
    "                  family=binomial, data=data1)"
   ]
  },
  {
   "cell_type": "code",
   "execution_count": 155,
   "metadata": {},
   "outputs": [
    {
     "data": {
      "text/html": [
       "<div>\n",
       "<style scoped>\n",
       "    .dataframe tbody tr th:only-of-type {\n",
       "        vertical-align: middle;\n",
       "    }\n",
       "\n",
       "    .dataframe tbody tr th {\n",
       "        vertical-align: top;\n",
       "    }\n",
       "\n",
       "    .dataframe thead th {\n",
       "        text-align: right;\n",
       "    }\n",
       "</style>\n",
       "<table border=\"1\" class=\"dataframe\">\n",
       "  <thead>\n",
       "    <tr style=\"text-align: right;\">\n",
       "      <th></th>\n",
       "      <th>ID</th>\n",
       "      <th>LOW</th>\n",
       "      <th>AGE</th>\n",
       "      <th>LWT</th>\n",
       "      <th>RACE</th>\n",
       "      <th>SMOKE</th>\n",
       "      <th>PTL</th>\n",
       "      <th>HT</th>\n",
       "      <th>UI</th>\n",
       "      <th>FTV</th>\n",
       "      <th>BWT</th>\n",
       "    </tr>\n",
       "  </thead>\n",
       "  <tbody>\n",
       "    <tr>\n",
       "      <th>0</th>\n",
       "      <td>4</td>\n",
       "      <td>1</td>\n",
       "      <td>28</td>\n",
       "      <td>120</td>\n",
       "      <td>3</td>\n",
       "      <td>1</td>\n",
       "      <td>1</td>\n",
       "      <td>0</td>\n",
       "      <td>1</td>\n",
       "      <td>0</td>\n",
       "      <td>709</td>\n",
       "    </tr>\n",
       "    <tr>\n",
       "      <th>1</th>\n",
       "      <td>10</td>\n",
       "      <td>1</td>\n",
       "      <td>29</td>\n",
       "      <td>130</td>\n",
       "      <td>1</td>\n",
       "      <td>0</td>\n",
       "      <td>0</td>\n",
       "      <td>0</td>\n",
       "      <td>1</td>\n",
       "      <td>2</td>\n",
       "      <td>1021</td>\n",
       "    </tr>\n",
       "    <tr>\n",
       "      <th>2</th>\n",
       "      <td>11</td>\n",
       "      <td>1</td>\n",
       "      <td>34</td>\n",
       "      <td>187</td>\n",
       "      <td>2</td>\n",
       "      <td>1</td>\n",
       "      <td>0</td>\n",
       "      <td>1</td>\n",
       "      <td>0</td>\n",
       "      <td>0</td>\n",
       "      <td>1135</td>\n",
       "    </tr>\n",
       "    <tr>\n",
       "      <th>3</th>\n",
       "      <td>13</td>\n",
       "      <td>1</td>\n",
       "      <td>25</td>\n",
       "      <td>105</td>\n",
       "      <td>3</td>\n",
       "      <td>0</td>\n",
       "      <td>1</td>\n",
       "      <td>1</td>\n",
       "      <td>0</td>\n",
       "      <td>0</td>\n",
       "      <td>1330</td>\n",
       "    </tr>\n",
       "    <tr>\n",
       "      <th>4</th>\n",
       "      <td>15</td>\n",
       "      <td>1</td>\n",
       "      <td>25</td>\n",
       "      <td>85</td>\n",
       "      <td>3</td>\n",
       "      <td>0</td>\n",
       "      <td>0</td>\n",
       "      <td>0</td>\n",
       "      <td>1</td>\n",
       "      <td>0</td>\n",
       "      <td>1474</td>\n",
       "    </tr>\n",
       "  </tbody>\n",
       "</table>\n",
       "</div>"
      ],
      "text/plain": [
       "   ID  LOW  AGE  LWT  RACE  SMOKE  PTL  HT  UI  FTV   BWT\n",
       "0   4    1   28  120     3      1    1   0   1    0   709\n",
       "1  10    1   29  130     1      0    0   0   1    2  1021\n",
       "2  11    1   34  187     2      1    0   1   0    0  1135\n",
       "3  13    1   25  105     3      0    1   1   0    0  1330\n",
       "4  15    1   25   85     3      0    0   0   1    0  1474"
      ]
     },
     "execution_count": 155,
     "metadata": {},
     "output_type": "execute_result"
    }
   ],
   "source": [
    "data1.head()"
   ]
  },
  {
   "cell_type": "code",
   "execution_count": 163,
   "metadata": {},
   "outputs": [
    {
     "data": {
      "text/html": [
       "<div>\n",
       "<style scoped>\n",
       "    .dataframe tbody tr th:only-of-type {\n",
       "        vertical-align: middle;\n",
       "    }\n",
       "\n",
       "    .dataframe tbody tr th {\n",
       "        vertical-align: top;\n",
       "    }\n",
       "\n",
       "    .dataframe thead th {\n",
       "        text-align: right;\n",
       "    }\n",
       "</style>\n",
       "<table border=\"1\" class=\"dataframe\">\n",
       "  <thead>\n",
       "    <tr style=\"text-align: right;\">\n",
       "      <th></th>\n",
       "      <th>ID</th>\n",
       "      <th>LOW</th>\n",
       "      <th>AGE</th>\n",
       "      <th>LWT</th>\n",
       "      <th>RACE</th>\n",
       "      <th>SMOKE</th>\n",
       "      <th>PTL</th>\n",
       "      <th>HT</th>\n",
       "      <th>UI</th>\n",
       "      <th>FTV</th>\n",
       "      <th>BWT</th>\n",
       "      <th>othrace</th>\n",
       "      <th>AfrAm</th>\n",
       "    </tr>\n",
       "  </thead>\n",
       "  <tbody>\n",
       "    <tr>\n",
       "      <th>0</th>\n",
       "      <td>4</td>\n",
       "      <td>1</td>\n",
       "      <td>28</td>\n",
       "      <td>120</td>\n",
       "      <td>3</td>\n",
       "      <td>1</td>\n",
       "      <td>1</td>\n",
       "      <td>0</td>\n",
       "      <td>1</td>\n",
       "      <td>0</td>\n",
       "      <td>709</td>\n",
       "      <td>True</td>\n",
       "      <td>False</td>\n",
       "    </tr>\n",
       "    <tr>\n",
       "      <th>1</th>\n",
       "      <td>10</td>\n",
       "      <td>1</td>\n",
       "      <td>29</td>\n",
       "      <td>130</td>\n",
       "      <td>1</td>\n",
       "      <td>0</td>\n",
       "      <td>0</td>\n",
       "      <td>0</td>\n",
       "      <td>1</td>\n",
       "      <td>2</td>\n",
       "      <td>1021</td>\n",
       "      <td>False</td>\n",
       "      <td>False</td>\n",
       "    </tr>\n",
       "    <tr>\n",
       "      <th>2</th>\n",
       "      <td>11</td>\n",
       "      <td>1</td>\n",
       "      <td>34</td>\n",
       "      <td>187</td>\n",
       "      <td>2</td>\n",
       "      <td>1</td>\n",
       "      <td>0</td>\n",
       "      <td>1</td>\n",
       "      <td>0</td>\n",
       "      <td>0</td>\n",
       "      <td>1135</td>\n",
       "      <td>False</td>\n",
       "      <td>True</td>\n",
       "    </tr>\n",
       "    <tr>\n",
       "      <th>3</th>\n",
       "      <td>13</td>\n",
       "      <td>1</td>\n",
       "      <td>25</td>\n",
       "      <td>105</td>\n",
       "      <td>3</td>\n",
       "      <td>0</td>\n",
       "      <td>1</td>\n",
       "      <td>1</td>\n",
       "      <td>0</td>\n",
       "      <td>0</td>\n",
       "      <td>1330</td>\n",
       "      <td>True</td>\n",
       "      <td>False</td>\n",
       "    </tr>\n",
       "    <tr>\n",
       "      <th>4</th>\n",
       "      <td>15</td>\n",
       "      <td>1</td>\n",
       "      <td>25</td>\n",
       "      <td>85</td>\n",
       "      <td>3</td>\n",
       "      <td>0</td>\n",
       "      <td>0</td>\n",
       "      <td>0</td>\n",
       "      <td>1</td>\n",
       "      <td>0</td>\n",
       "      <td>1474</td>\n",
       "      <td>True</td>\n",
       "      <td>False</td>\n",
       "    </tr>\n",
       "  </tbody>\n",
       "</table>\n",
       "</div>"
      ],
      "text/plain": [
       "   ID  LOW  AGE  LWT  RACE  SMOKE  PTL  HT  UI  FTV   BWT  othrace  AfrAm\n",
       "0   4    1   28  120     3      1    1   0   1    0   709     True  False\n",
       "1  10    1   29  130     1      0    0   0   1    2  1021    False  False\n",
       "2  11    1   34  187     2      1    0   1   0    0  1135    False   True\n",
       "3  13    1   25  105     3      0    1   1   0    0  1330     True  False\n",
       "4  15    1   25   85     3      0    0   0   1    0  1474     True  False"
      ]
     },
     "execution_count": 163,
     "metadata": {},
     "output_type": "execute_result"
    }
   ],
   "source": [
    "## add new column to dataframe by conditions\n",
    "data1['AfrAm'] = data1.RACE.apply(lambda x: True  if x ==2 else False)\n",
    "data1['othrace'] = data1.RACE.apply(lambda x: True  if x ==3 else False)\n",
    "data1.head()"
   ]
  },
  {
   "cell_type": "code",
   "execution_count": 166,
   "metadata": {},
   "outputs": [
    {
     "name": "stdout",
     "output_type": "stream",
     "text": [
      "                 Generalized Linear Model Regression Results                  \n",
      "==============================================================================\n",
      "Dep. Variable:                    LOW   No. Observations:                  189\n",
      "Model:                            GLM   Df Residuals:                      181\n",
      "Model Family:                Binomial   Df Model:                            7\n",
      "Link Function:                  logit   Scale:                          1.0000\n",
      "Method:                          IRLS   Log-Likelihood:                -101.97\n",
      "Date:                Sun, 29 Dec 2019   Deviance:                       203.95\n",
      "Time:                        21:00:51   Pearson chi2:                     182.\n",
      "No. Iterations:                     5                                         \n",
      "Covariance Type:            nonrobust                                         \n",
      "===================================================================================\n",
      "                      coef    std err          z      P>|z|      [0.025      0.975]\n",
      "-----------------------------------------------------------------------------------\n",
      "Intercept           0.4372      1.192      0.367      0.714      -1.899       2.773\n",
      "AfrAm[T.True]       1.2806      0.527      2.431      0.015       0.248       2.313\n",
      "othrace[T.True]     0.9019      0.434      2.076      0.038       0.051       1.753\n",
      "AGE                -0.0183      0.035     -0.516      0.606      -0.088       0.051\n",
      "LWT                -0.0163      0.007     -2.374      0.018      -0.030      -0.003\n",
      "SMOKE               1.0276      0.394      2.608      0.009       0.255       1.800\n",
      "HT                  1.8576      0.689      2.697      0.007       0.507       3.208\n",
      "UI                  0.8954      0.448      1.996      0.046       0.016       1.774\n",
      "===================================================================================\n"
     ]
    }
   ],
   "source": [
    "formula = 'LOW ~ AGE + LWT + SMOKE + HT + UI+ AfrAm+othrace'\n",
    "\n",
    "model2 = smf.glm(formula = formula, data = data1, family = sm.families.Binomial())\n",
    "logit_out2 = model2.fit()\n",
    "\n",
    "print(logit_out2.summary())"
   ]
  },
  {
   "cell_type": "markdown",
   "metadata": {},
   "source": [
    "### OK, let's conduct a likelihood ratio test of model 1 vs. model 2\n",
    "### Here the constrained model is model 1 and the unconstrained model is\n",
    "### model 2. Since 2 constraints are applied, the test statistic under\n",
    "### the null follows a chi-square distribution with 2 degrees of freedom"
   ]
  },
  {
   "cell_type": "code",
   "execution_count": 169,
   "metadata": {},
   "outputs": [
    {
     "data": {
      "text/plain": [
       "7.829775155253827"
      ]
     },
     "execution_count": 169,
     "metadata": {},
     "output_type": "execute_result"
    }
   ],
   "source": [
    "lr = logit_out.deviance - logit_out2.deviance\n",
    "lr"
   ]
  },
  {
   "cell_type": "code",
   "execution_count": 186,
   "metadata": {
    "scrolled": true
   },
   "outputs": [
    {
     "data": {
      "text/plain": [
       "0.019942790535466104"
      ]
     },
     "execution_count": 186,
     "metadata": {},
     "output_type": "execute_result"
    }
   ],
   "source": [
    "#the p-value\n",
    "from scipy.stats import chi2\n",
    "1 - chi2.cdf(lr, 2) #Cumulative distribution function."
   ]
  },
  {
   "cell_type": "markdown",
   "metadata": {},
   "source": [
    "### The p-value of 0.01994 indicates that there is reason to believe\n",
    "### (at 5% level) that the constraints implied by model 1 do not hold\n",
    "\n",
    "\n",
    "## We can also use a Wald test to decide whether the\n",
    "## coefficients on AfrAm and othrace are zero in the second model\n"
   ]
  },
  {
   "cell_type": "code",
   "execution_count": 238,
   "metadata": {},
   "outputs": [
    {
     "data": {
      "text/plain": [
       "array([[0, 1, 0, 0, 0, 0, 0, 0],\n",
       "       [0, 0, 1, 0, 0, 0, 0, 0]])"
      ]
     },
     "execution_count": 238,
     "metadata": {},
     "output_type": "execute_result"
    }
   ],
   "source": [
    "R = np.array([0, 1,   0, 0, 0, 0, 0, 0, 0, 0,  1, 0, 0, 0, 0,0]).reshape(2, 8)\n",
    "R"
   ]
  },
  {
   "cell_type": "code",
   "execution_count": 239,
   "metadata": {},
   "outputs": [
    {
     "data": {
      "text/plain": [
       "Intercept          0.437240\n",
       "AfrAm[T.True]      1.280641\n",
       "othrace[T.True]    0.901880\n",
       "AGE               -0.018256\n",
       "LWT               -0.016285\n",
       "SMOKE              1.027571\n",
       "HT                 1.857617\n",
       "UI                 0.895387\n",
       "dtype: float64"
      ]
     },
     "execution_count": 239,
     "metadata": {},
     "output_type": "execute_result"
    }
   ],
   "source": [
    "beta = logit_out2.params\n",
    "beta"
   ]
  },
  {
   "cell_type": "code",
   "execution_count": 240,
   "metadata": {},
   "outputs": [
    {
     "data": {
      "text/html": [
       "<div>\n",
       "<style scoped>\n",
       "    .dataframe tbody tr th:only-of-type {\n",
       "        vertical-align: middle;\n",
       "    }\n",
       "\n",
       "    .dataframe tbody tr th {\n",
       "        vertical-align: top;\n",
       "    }\n",
       "\n",
       "    .dataframe thead th {\n",
       "        text-align: right;\n",
       "    }\n",
       "</style>\n",
       "<table border=\"1\" class=\"dataframe\">\n",
       "  <thead>\n",
       "    <tr style=\"text-align: right;\">\n",
       "      <th></th>\n",
       "      <th>Intercept</th>\n",
       "      <th>AfrAm[T.True]</th>\n",
       "      <th>othrace[T.True]</th>\n",
       "      <th>AGE</th>\n",
       "      <th>LWT</th>\n",
       "      <th>SMOKE</th>\n",
       "      <th>HT</th>\n",
       "      <th>UI</th>\n",
       "    </tr>\n",
       "  </thead>\n",
       "  <tbody>\n",
       "    <tr>\n",
       "      <th>Intercept</th>\n",
       "      <td>1.420727</td>\n",
       "      <td>-0.067978</td>\n",
       "      <td>-0.205137</td>\n",
       "      <td>-0.025973</td>\n",
       "      <td>-0.005186</td>\n",
       "      <td>-0.135478</td>\n",
       "      <td>0.134292</td>\n",
       "      <td>-0.073648</td>\n",
       "    </tr>\n",
       "    <tr>\n",
       "      <th>AfrAm[T.True]</th>\n",
       "      <td>-0.067978</td>\n",
       "      <td>0.277412</td>\n",
       "      <td>0.088768</td>\n",
       "      <td>0.002773</td>\n",
       "      <td>-0.000800</td>\n",
       "      <td>0.045509</td>\n",
       "      <td>0.018416</td>\n",
       "      <td>0.011871</td>\n",
       "    </tr>\n",
       "    <tr>\n",
       "      <th>othrace[T.True]</th>\n",
       "      <td>-0.205137</td>\n",
       "      <td>0.088768</td>\n",
       "      <td>0.188675</td>\n",
       "      <td>0.001502</td>\n",
       "      <td>0.000348</td>\n",
       "      <td>0.083481</td>\n",
       "      <td>-0.001311</td>\n",
       "      <td>0.000976</td>\n",
       "    </tr>\n",
       "    <tr>\n",
       "      <th>AGE</th>\n",
       "      <td>-0.025973</td>\n",
       "      <td>0.002773</td>\n",
       "      <td>0.001502</td>\n",
       "      <td>0.001250</td>\n",
       "      <td>-0.000029</td>\n",
       "      <td>0.000419</td>\n",
       "      <td>0.000715</td>\n",
       "      <td>0.000557</td>\n",
       "    </tr>\n",
       "    <tr>\n",
       "      <th>LWT</th>\n",
       "      <td>-0.005186</td>\n",
       "      <td>-0.000800</td>\n",
       "      <td>0.000348</td>\n",
       "      <td>-0.000029</td>\n",
       "      <td>0.000047</td>\n",
       "      <td>0.000121</td>\n",
       "      <td>-0.001576</td>\n",
       "      <td>0.000161</td>\n",
       "    </tr>\n",
       "    <tr>\n",
       "      <th>SMOKE</th>\n",
       "      <td>-0.135478</td>\n",
       "      <td>0.045509</td>\n",
       "      <td>0.083481</td>\n",
       "      <td>0.000419</td>\n",
       "      <td>0.000121</td>\n",
       "      <td>0.155185</td>\n",
       "      <td>0.003103</td>\n",
       "      <td>-0.001537</td>\n",
       "    </tr>\n",
       "    <tr>\n",
       "      <th>HT</th>\n",
       "      <td>0.134292</td>\n",
       "      <td>0.018416</td>\n",
       "      <td>-0.001311</td>\n",
       "      <td>0.000715</td>\n",
       "      <td>-0.001576</td>\n",
       "      <td>0.003103</td>\n",
       "      <td>0.474518</td>\n",
       "      <td>0.032941</td>\n",
       "    </tr>\n",
       "    <tr>\n",
       "      <th>UI</th>\n",
       "      <td>-0.073648</td>\n",
       "      <td>0.011871</td>\n",
       "      <td>0.000976</td>\n",
       "      <td>0.000557</td>\n",
       "      <td>0.000161</td>\n",
       "      <td>-0.001537</td>\n",
       "      <td>0.032941</td>\n",
       "      <td>0.201149</td>\n",
       "    </tr>\n",
       "  </tbody>\n",
       "</table>\n",
       "</div>"
      ],
      "text/plain": [
       "                 Intercept  AfrAm[T.True]  othrace[T.True]       AGE  \\\n",
       "Intercept         1.420727      -0.067978        -0.205137 -0.025973   \n",
       "AfrAm[T.True]    -0.067978       0.277412         0.088768  0.002773   \n",
       "othrace[T.True]  -0.205137       0.088768         0.188675  0.001502   \n",
       "AGE              -0.025973       0.002773         0.001502  0.001250   \n",
       "LWT              -0.005186      -0.000800         0.000348 -0.000029   \n",
       "SMOKE            -0.135478       0.045509         0.083481  0.000419   \n",
       "HT                0.134292       0.018416        -0.001311  0.000715   \n",
       "UI               -0.073648       0.011871         0.000976  0.000557   \n",
       "\n",
       "                      LWT     SMOKE        HT        UI  \n",
       "Intercept       -0.005186 -0.135478  0.134292 -0.073648  \n",
       "AfrAm[T.True]   -0.000800  0.045509  0.018416  0.011871  \n",
       "othrace[T.True]  0.000348  0.083481 -0.001311  0.000976  \n",
       "AGE             -0.000029  0.000419  0.000715  0.000557  \n",
       "LWT              0.000047  0.000121 -0.001576  0.000161  \n",
       "SMOKE            0.000121  0.155185  0.003103 -0.001537  \n",
       "HT              -0.001576  0.003103  0.474518  0.032941  \n",
       "UI               0.000161 -0.001537  0.032941  0.201149  "
      ]
     },
     "execution_count": 240,
     "metadata": {},
     "output_type": "execute_result"
    }
   ],
   "source": [
    "r = 0\n",
    "V = logit_out2.cov_params()\n",
    "V"
   ]
  },
  {
   "cell_type": "code",
   "execution_count": 251,
   "metadata": {},
   "outputs": [
    {
     "data": {
      "text/plain": [
       "7.422850315889814"
      ]
     },
     "execution_count": 251,
     "metadata": {},
     "output_type": "execute_result"
    }
   ],
   "source": [
    "# solve(R %*% V %*% t(R)) %*% (R %*% beta - r)\n",
    "A = np.dot(np.dot(R, V), R.T)\n",
    "b = ( np.dot( R, beta) - r)\n",
    "# np.linalg.solve(A,b)\n",
    "\n",
    "W = np.dot(b.T, np.linalg.solve(A,b))# ( np.dot( R, beta) - r)\n",
    "W"
   ]
  },
  {
   "cell_type": "code",
   "execution_count": 253,
   "metadata": {},
   "outputs": [
    {
     "data": {
      "text/plain": [
       "0.02444266378093074"
      ]
     },
     "execution_count": 253,
     "metadata": {},
     "output_type": "execute_result"
    }
   ],
   "source": [
    "# The p-value from Wald test\n",
    "1 - chi2.cdf(W, 2)"
   ]
  },
  {
   "cell_type": "markdown",
   "metadata": {},
   "source": [
    "### We got the same conclusion as in Likelihood test\n",
    "### Why is the Wald statistic \"only\" 7.42, while the likelihood ratio\n",
    "### statistic is 7.83 and both have the same df?\n",
    "### ---- likelihood ratio test is more powerful\n",
    "\n",
    "\n",
    "## We could also look at BIC to pick models. The AIC() function in R \n",
    "## will return BIC values if the argument k is set to log(n)\n"
   ]
  },
  {
   "cell_type": "code",
   "execution_count": 259,
   "metadata": {},
   "outputs": [
    {
     "data": {
      "text/plain": [
       "2.653718874865376"
      ]
     },
     "execution_count": 259,
     "metadata": {},
     "output_type": "execute_result"
    }
   ],
   "source": [
    "logit_out2.bic - logit_out.bic"
   ]
  },
  {
   "cell_type": "markdown",
   "metadata": {},
   "source": [
    "### This indicates moderate support for model 1 over model 2. Nonetheless, given that we have strong reason to believe that race should be in the model we may well want to stick with model 2.\n",
    "\n",
    "\n",
    "## Now suppose we want to test whether the coefficients on smoking and # hypertension are equal to each other in the second model.\n",
    "## How to conduct a Wald test?"
   ]
  },
  {
   "cell_type": "code",
   "execution_count": 266,
   "metadata": {},
   "outputs": [
    {
     "data": {
      "text/plain": [
       "array([[ 0,  0,  0,  0,  0,  1, -1,  0]])"
      ]
     },
     "execution_count": 266,
     "metadata": {},
     "output_type": "execute_result"
    }
   ],
   "source": [
    "R = np.array([0, 0, 0, 0, 0, 1, -1, 0]).reshape(1,8)\n",
    "R"
   ]
  },
  {
   "cell_type": "code",
   "execution_count": 268,
   "metadata": {},
   "outputs": [
    {
     "data": {
      "text/plain": [
       "Intercept          0.437240\n",
       "AfrAm[T.True]      1.280641\n",
       "othrace[T.True]    0.901880\n",
       "AGE               -0.018256\n",
       "LWT               -0.016285\n",
       "SMOKE              1.027571\n",
       "HT                 1.857617\n",
       "UI                 0.895387\n",
       "dtype: float64"
      ]
     },
     "execution_count": 268,
     "metadata": {},
     "output_type": "execute_result"
    }
   ],
   "source": [
    "beta"
   ]
  },
  {
   "cell_type": "code",
   "execution_count": 269,
   "metadata": {},
   "outputs": [],
   "source": [
    "# solve(R %*% V %*% t(R)) %*% (R %*% beta - r)\n",
    "A = np.dot(np.dot(R, V), R.T)\n",
    "b = ( np.dot( R, beta) - r)\n",
    "# np.linalg.solve(A,b)\n"
   ]
  },
  {
   "cell_type": "code",
   "execution_count": 270,
   "metadata": {},
   "outputs": [
    {
     "data": {
      "text/plain": [
       "1.105020002041269"
      ]
     },
     "execution_count": 270,
     "metadata": {},
     "output_type": "execute_result"
    }
   ],
   "source": [
    "\n",
    "W = np.dot(b.T, np.linalg.solve(A,b))# ( np.dot( R, beta) - r)\n",
    "W"
   ]
  },
  {
   "cell_type": "code",
   "execution_count": 267,
   "metadata": {},
   "outputs": [
    {
     "data": {
      "text/plain": [
       "(1, 8)"
      ]
     },
     "execution_count": 267,
     "metadata": {},
     "output_type": "execute_result"
    }
   ],
   "source": [
    "np.shape(R)"
   ]
  },
  {
   "cell_type": "code",
   "execution_count": 272,
   "metadata": {},
   "outputs": [
    {
     "data": {
      "text/plain": [
       "0.29316705724695946"
      ]
     },
     "execution_count": 272,
     "metadata": {},
     "output_type": "execute_result"
    }
   ],
   "source": [
    "# The p-value from Wald test\n",
    "1 - chi2.cdf(W, 1)"
   ]
  },
  {
   "cell_type": "markdown",
   "metadata": {},
   "source": [
    "### the p-value of 0.293 suggests that there is no reason to believe the null hypothesis (that the coefficients are equal) is not true."
   ]
  },
  {
   "cell_type": "code",
   "execution_count": null,
   "metadata": {},
   "outputs": [],
   "source": []
  }
 ],
 "metadata": {
  "kernelspec": {
   "display_name": "Python 3",
   "language": "python",
   "name": "python3"
  },
  "language_info": {
   "codemirror_mode": {
    "name": "ipython",
    "version": 3
   },
   "file_extension": ".py",
   "mimetype": "text/x-python",
   "name": "python",
   "nbconvert_exporter": "python",
   "pygments_lexer": "ipython3",
   "version": "3.7.3"
  }
 },
 "nbformat": 4,
 "nbformat_minor": 2
}
